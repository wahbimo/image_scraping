{
 "cells": [
  {
   "cell_type": "markdown",
   "metadata": {
    "pycharm": {
     "name": "#%% md\n"
    }
   },
   "source": [
    "# Script: Image Scraping using duckduckgo.com"
   ]
  },
  {
   "cell_type": "markdown",
   "metadata": {
    "pycharm": {
     "name": "#%% md\n"
    }
   },
   "source": [
    "***\n",
    "***\n",
    "***"
   ]
  },
  {
   "cell_type": "markdown",
   "metadata": {
    "pycharm": {
     "name": "#%% md\n"
    }
   },
   "source": [
    "***Selenium*** is a tool to automate the testing of web apps."
   ]
  },
  {
   "cell_type": "code",
   "execution_count": null,
   "metadata": {
    "pycharm": {
     "name": "#%%\n"
    }
   },
   "outputs": [],
   "source": [
    "!pip install selenium"
   ]
  },
  {
   "cell_type": "markdown",
   "metadata": {
    "pycharm": {
     "name": "#%% md\n"
    }
   },
   "source": [
    "## Importation of libraries:"
   ]
  },
  {
   "cell_type": "markdown",
   "metadata": {
    "pycharm": {
     "name": "#%% md\n"
    }
   },
   "source": [
    "***os :*** to use operating system interfaces\n",
    "***urllib :*** to manipulate URLs\n",
    "***pandas :*** to manipulate Data Frames"
   ]
  },
  {
   "cell_type": "code",
   "execution_count": null,
   "metadata": {
    "pycharm": {
     "name": "#%%\n"
    }
   },
   "outputs": [],
   "source": [
    "import os\n",
    "\n",
    "import selenium.webdriver as webdriver\n",
    "from selenium.webdriver.firefox.service import Service\n",
    "from selenium.webdriver.firefox.options import Options\n",
    "from selenium.webdriver import ActionChains\n",
    "\n",
    "import urllib.request\n",
    "\n",
    "import pandas as pd"
   ]
  },
  {
   "cell_type": "markdown",
   "metadata": {
    "pycharm": {
     "name": "#%% md\n"
    }
   },
   "source": [
    "### Loading the descriptions (/names/titles...) of the images we want to download"
   ]
  },
  {
   "cell_type": "code",
   "execution_count": null,
   "metadata": {
    "pycharm": {
     "name": "#%%\n"
    }
   },
   "outputs": [],
   "source": [
    "df = pd.read_excel(\"yourExcelFile.xlsx\",\"sheetName\")\n",
    "image_description_column = df[\"Description\"]"
   ]
  },
  {
   "cell_type": "markdown",
   "metadata": {
    "pycharm": {
     "name": "#%% md\n"
    }
   },
   "source": [
    "### Defining the function to download an image from a link"
   ]
  },
  {
   "cell_type": "markdown",
   "metadata": {
    "pycharm": {
     "name": "#%% md\n"
    }
   },
   "source": [
    "We store _file_name_ in _file_path_ as _jpg_ image"
   ]
  },
  {
   "cell_type": "code",
   "execution_count": null,
   "metadata": {
    "pycharm": {
     "name": "#%%\n"
    }
   },
   "outputs": [],
   "source": [
    "def download_image(url, file_path, file_name):\n",
    "    full_path = file_path + file_name + '.jpg'\n",
    "    urllib.request.urlretrieve(url, full_path)"
   ]
  },
  {
   "cell_type": "markdown",
   "metadata": {
    "pycharm": {
     "name": "#%% md\n"
    }
   },
   "source": [
    "***\n",
    "***\n",
    "***"
   ]
  },
  {
   "cell_type": "markdown",
   "metadata": {
    "pycharm": {
     "name": "#%% md\n"
    }
   },
   "source": [
    "I am using Firefox for this demo.\n",
    "You have to download the geckodriver for firefox from this link:\n",
    "[Github for geckodriver](https://github.com/mozilla/geckodriver/releases)\n",
    "I placed _'geckodriver.exe'_ in a directory I created _'Drivers'_ located in the same mother directory as this notebook."
   ]
  },
  {
   "cell_type": "code",
   "execution_count": null,
   "metadata": {
    "pycharm": {
     "name": "#%%\n"
    }
   },
   "outputs": [],
   "source": [
    "user_agent = 'Mozilla/5.0 (Windows NT 10.0; Win64; x64; rv:109.0) Gecko/20100101 Firefox/111.0'\n",
    "FireFoxDriverPath = os.path.join(os.getcwd(), 'Drivers', 'geckodriver.exe')\n",
    "firefox_service = Service(FireFoxDriverPath)\n",
    "firefox_option = Options()\n",
    "firefox_option.set_preference(\"general.useragent.override\", user_agent)\n",
    "browser = webdriver.Firefox(service=firefox_service, options=firefox_option)\n",
    "browser.implicitly_wait(7)\n",
    "\n",
    "browser.maximize_window() #Maximise the window not to have errors when using xPaths\n",
    "action = ActionChains(browser) #to use the mouse clicks"
   ]
  },
  {
   "cell_type": "markdown",
   "metadata": {
    "pycharm": {
     "name": "#%% md\n"
    }
   },
   "source": [
    "### Loop over the descriptions of the images"
   ]
  },
  {
   "cell_type": "code",
   "execution_count": null,
   "metadata": {
    "pycharm": {
     "name": "#%%\n"
    }
   },
   "outputs": [],
   "source": [
    "i = 0\n",
    "for name in image_description_column:\n",
    "\n",
    "    url = \"https://duckduckgo.com/?q=\"+(name.strip()).replace(\" \",\"+\")+\"&va=b&t=hc&iar=images&iax=images&ia=images\"\n",
    "    browser.get(url)\n",
    "\n",
    "    image_box = browser.find_element('xpath','/html/body/div[2]/div[3]/div/div/div[2]/div[2]/div[1]/div[1]/span/img')\n",
    "    #use Inspect to get the right xPath address of the first result of the search,it must look like this one '/html/body/div[2]/div[3]/div/div/div[2]/div[2]/div[1]/div[1]/span/img'\n",
    "    action.click(image_box).perform()#Click on the first image\n",
    "\n",
    "    img = browser.find_element('xpath','/html/body/div[2]/div[3]/div/div[2]/div/div[1]/div[1]/div/div[1]/div/a/img[1]')\n",
    "    #When clicking on the first result a bigger image appears, it is img, so make sure to correct the xPath.\n",
    "\n",
    "    src = img.get_attribute('src')#getting the link of the image\n",
    "    file_path = r\"C:\\Users\\...Your path\" #put your file path here\n",
    "    file_name = \"image\"+str(i)  #the name of the image is: image0.jpg, image1.jpg....\n",
    "    download_image(src, file_path, file_name)\n",
    "    print(\"image __\"+str(i)+\"__ downloaded successfully.\")\n",
    "    i += 1"
   ]
  },
  {
   "cell_type": "markdown",
   "metadata": {
    "pycharm": {
     "name": "#%% md\n"
    }
   },
   "source": [
    "***\n",
    "***\n",
    "***"
   ]
  }
 ],
 "metadata": {
  "kernelspec": {
   "display_name": "Python 3 (ipykernel)",
   "language": "python",
   "name": "python3"
  },
  "language_info": {
   "codemirror_mode": {
    "name": "ipython",
    "version": 3
   },
   "file_extension": ".py",
   "mimetype": "text/x-python",
   "name": "python",
   "nbconvert_exporter": "python",
   "pygments_lexer": "ipython3",
   "version": "3.9.12"
  }
 },
 "nbformat": 4,
 "nbformat_minor": 1
}
